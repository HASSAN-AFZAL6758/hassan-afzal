{
 "cells": [
  {
   "cell_type": "code",
   "execution_count": 3,
   "id": "fb684098-dcca-4295-87af-f3ac27de160a",
   "metadata": {},
   "outputs": [
    {
     "name": "stdout",
     "output_type": "stream",
     "text": [
      "10\n",
      "9\n",
      "8\n",
      "7\n",
      "6\n",
      "5\n",
      "4\n",
      "3\n",
      "2\n",
      "1\n",
      "loop complete\n"
     ]
    }
   ],
   "source": [
    "# question 1\n",
    "num = 10\n",
    "while num >=1 :\n",
    "    print(num)\n",
    "    num -=1\n",
    "print(\"loop complete\")"
   ]
  },
  {
   "cell_type": "code",
   "execution_count": 4,
   "id": "8fdcdfc9-4eb8-4502-952c-98d795b01fd3",
   "metadata": {},
   "outputs": [
    {
     "name": "stdout",
     "output_type": "stream",
     "text": [
      "2\n",
      "4\n",
      "6\n",
      "8\n",
      "10\n",
      "12\n",
      "14\n",
      "16\n",
      "18\n"
     ]
    }
   ],
   "source": [
    "# question 2\n",
    "num = 2\n",
    "while num <+ 20:\n",
    "    print(num)\n",
    "    num += 2"
   ]
  },
  {
   "cell_type": "code",
   "execution_count": 5,
   "id": "b2d3827d-53c2-478f-a18e-b5269776b201",
   "metadata": {},
   "outputs": [
    {
     "name": "stdin",
     "output_type": "stream",
     "text": [
      "Enter a number:  1\n"
     ]
    },
    {
     "name": "stdout",
     "output_type": "stream",
     "text": [
      "sum is: 1\n"
     ]
    }
   ],
   "source": [
    "# question 3\n",
    "n = int(input(\"Enter a number: \"))\n",
    "i=1\n",
    "total = 0\n",
    "while i <=n:\n",
    "    total += i\n",
    "    i += 1\n",
    "print(\"sum is:\", total)"
   ]
  },
  {
   "cell_type": "code",
   "execution_count": null,
   "id": "669929f5-8faa-4b48-8a29-dc9a396931ca",
   "metadata": {},
   "outputs": [],
   "source": [
    "# question 4\n",
    "num = -1\n",
    "while num <=0:\n",
    "    num = int(input(\"Enter a [positive number: \"))\n",
    "print(\"thank you\")"
   ]
  },
  {
   "cell_type": "code",
   "execution_count": null,
   "id": "b115aab9-b53e-47ee-b266-0c1ab3198d52",
   "metadata": {},
   "outputs": [],
   "source": [
    "# question 5\n",
    "s = \"data\"\n",
    "i = 0\n",
    "while i < len(s):\n",
    "    print(s[i])\n",
    "    i += 1"
   ]
  },
  {
   "cell_type": "code",
   "execution_count": null,
   "id": "416919eb-c2c5-44b1-a888-cdd54ea6d0a7",
   "metadata": {},
   "outputs": [],
   "source": []
  }
 ],
 "metadata": {
  "kernelspec": {
   "display_name": "Python 3 (ipykernel)",
   "language": "python",
   "name": "python3"
  },
  "language_info": {
   "codemirror_mode": {
    "name": "ipython",
    "version": 3
   },
   "file_extension": ".py",
   "mimetype": "text/x-python",
   "name": "python",
   "nbconvert_exporter": "python",
   "pygments_lexer": "ipython3",
   "version": "3.12.4"
  }
 },
 "nbformat": 4,
 "nbformat_minor": 5
}
